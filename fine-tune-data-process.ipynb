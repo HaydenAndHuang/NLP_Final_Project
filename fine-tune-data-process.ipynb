{
 "cells": [
  {
   "cell_type": "code",
   "execution_count": null,
   "metadata": {},
   "outputs": [],
   "source": [
    "import pandas as pd\n",
    "import json"
   ]
  },
  {
   "cell_type": "code",
   "execution_count": 4,
   "metadata": {},
   "outputs": [
    {
     "name": "stdout",
     "output_type": "stream",
     "text": [
      "Length of df_train:  4498\n",
      "Length of df_test:  999\n"
     ]
    }
   ],
   "source": [
    "# Read data for evaluation, csv still contains ground_truth in caption column\n",
    "df = pd.read_csv('paired_dataset/paired_dataset_gpt.csv') \n",
    "\n",
    "hand_curated = [0, 5, 13, 15, 19, 30, 37, 41, 82, 91, 103, 114, 124, 139, 202, 436, 441, 455, 588, 614, 966, 971, 997, 1342]\n",
    "df_minus_24 = df.drop(index=hand_curated)\n",
    "# print(df_minus_24.head(10))\n",
    "# Select rows where 'is_balanced_subset' is False\n",
    "df_train = df_minus_24[df_minus_24['is_balanced_subset'] == False]\n",
    "df_test = df_minus_24[df_minus_24['is_balanced_subset'] == True]\n",
    "print(\"Length of df_train: \", len(df_train))\n",
    "print(\"Length of df_test: \", len(df_test))"
   ]
  },
  {
   "cell_type": "code",
   "execution_count": 5,
   "metadata": {},
   "outputs": [
    {
     "data": {
      "text/plain": [
       "Index(['ytid', 'start_s', 'end_s', 'audioset_positive_labels', 'aspect_list',\n",
       "       'caption', 'author_id', 'is_balanced_subset', 'is_audioset_eval',\n",
       "       'novice', 'gen_expert'],\n",
       "      dtype='object')"
      ]
     },
     "execution_count": 5,
     "metadata": {},
     "output_type": "execute_result"
    }
   ],
   "source": [
    "df.columns"
   ]
  },
  {
   "cell_type": "code",
   "execution_count": 6,
   "metadata": {},
   "outputs": [
    {
     "data": {
      "text/html": [
       "<div>\n",
       "<style scoped>\n",
       "    .dataframe tbody tr th:only-of-type {\n",
       "        vertical-align: middle;\n",
       "    }\n",
       "\n",
       "    .dataframe tbody tr th {\n",
       "        vertical-align: top;\n",
       "    }\n",
       "\n",
       "    .dataframe thead th {\n",
       "        text-align: right;\n",
       "    }\n",
       "</style>\n",
       "<table border=\"1\" class=\"dataframe\">\n",
       "  <thead>\n",
       "    <tr style=\"text-align: right;\">\n",
       "      <th></th>\n",
       "      <th>novice</th>\n",
       "      <th>gen_expert</th>\n",
       "      <th>is_balanced_subset</th>\n",
       "    </tr>\n",
       "  </thead>\n",
       "  <tbody>\n",
       "    <tr>\n",
       "      <th>0</th>\n",
       "      <td>A melancholic piano song with a female singer ...</td>\n",
       "      <td>A somber piano ballad featuring ethereal femal...</td>\n",
       "      <td>False</td>\n",
       "    </tr>\n",
       "    <tr>\n",
       "      <th>1</th>\n",
       "      <td>A chill song with electric guitar, simple beat...</td>\n",
       "      <td>A laid-back acoustic music piece with a clean ...</td>\n",
       "      <td>False</td>\n",
       "    </tr>\n",
       "    <tr>\n",
       "      <th>2</th>\n",
       "      <td>A man singing a catchy tune while snapping his...</td>\n",
       "      <td>A jazz vocalist performs a lively piece with f...</td>\n",
       "      <td>False</td>\n",
       "    </tr>\n",
       "    <tr>\n",
       "      <th>3</th>\n",
       "      <td>A catchy song with guitars, bass, piano, and t...</td>\n",
       "      <td>This is a commercial jingle featuring a blend ...</td>\n",
       "      <td>False</td>\n",
       "    </tr>\n",
       "    <tr>\n",
       "      <th>4</th>\n",
       "      <td>A fun folk song played on a rubber instrument ...</td>\n",
       "      <td>A lively folk music composition played on a ru...</td>\n",
       "      <td>False</td>\n",
       "    </tr>\n",
       "    <tr>\n",
       "      <th>...</th>\n",
       "      <td>...</td>\n",
       "      <td>...</td>\n",
       "      <td>...</td>\n",
       "    </tr>\n",
       "    <tr>\n",
       "      <th>5516</th>\n",
       "      <td>Someone playing a wooden drum box.</td>\n",
       "      <td>A percussionist performing on a cajón.</td>\n",
       "      <td>False</td>\n",
       "    </tr>\n",
       "    <tr>\n",
       "      <th>5517</th>\n",
       "      <td>An ancient Arabian folk instrumental with stri...</td>\n",
       "      <td>An ancient Arabian folk instrumental featuring...</td>\n",
       "      <td>True</td>\n",
       "    </tr>\n",
       "    <tr>\n",
       "      <th>5518</th>\n",
       "      <td>An electrifying rock guitar solo with lots of ...</td>\n",
       "      <td>A high-energy rock guitar solo featuring virtu...</td>\n",
       "      <td>True</td>\n",
       "    </tr>\n",
       "    <tr>\n",
       "      <th>5519</th>\n",
       "      <td>A slow and emotional instrumental piece with d...</td>\n",
       "      <td>An instrumental piece with a melancholic atmos...</td>\n",
       "      <td>False</td>\n",
       "    </tr>\n",
       "    <tr>\n",
       "      <th>5520</th>\n",
       "      <td>A futuristic music piece with eerie sounds, su...</td>\n",
       "      <td>This is a futuristic ambient music piece that ...</td>\n",
       "      <td>True</td>\n",
       "    </tr>\n",
       "  </tbody>\n",
       "</table>\n",
       "<p>5521 rows × 3 columns</p>\n",
       "</div>"
      ],
      "text/plain": [
       "                                                 novice  \\\n",
       "0     A melancholic piano song with a female singer ...   \n",
       "1     A chill song with electric guitar, simple beat...   \n",
       "2     A man singing a catchy tune while snapping his...   \n",
       "3     A catchy song with guitars, bass, piano, and t...   \n",
       "4     A fun folk song played on a rubber instrument ...   \n",
       "...                                                 ...   \n",
       "5516                 Someone playing a wooden drum box.   \n",
       "5517  An ancient Arabian folk instrumental with stri...   \n",
       "5518  An electrifying rock guitar solo with lots of ...   \n",
       "5519  A slow and emotional instrumental piece with d...   \n",
       "5520  A futuristic music piece with eerie sounds, su...   \n",
       "\n",
       "                                             gen_expert  is_balanced_subset  \n",
       "0     A somber piano ballad featuring ethereal femal...               False  \n",
       "1     A laid-back acoustic music piece with a clean ...               False  \n",
       "2     A jazz vocalist performs a lively piece with f...               False  \n",
       "3     This is a commercial jingle featuring a blend ...               False  \n",
       "4     A lively folk music composition played on a ru...               False  \n",
       "...                                                 ...                 ...  \n",
       "5516             A percussionist performing on a cajón.               False  \n",
       "5517  An ancient Arabian folk instrumental featuring...                True  \n",
       "5518  A high-energy rock guitar solo featuring virtu...                True  \n",
       "5519  An instrumental piece with a melancholic atmos...               False  \n",
       "5520  This is a futuristic ambient music piece that ...                True  \n",
       "\n",
       "[5521 rows x 3 columns]"
      ]
     },
     "execution_count": 6,
     "metadata": {},
     "output_type": "execute_result"
    }
   ],
   "source": [
    "df[['novice','gen_expert','is_balanced_subset']]"
   ]
  },
  {
   "cell_type": "code",
   "execution_count": 14,
   "metadata": {},
   "outputs": [],
   "source": [
    "def parse_instruct_format(system, user, assistant, isVal):\n",
    "    parsed = f\"<|begin_of_text|><|start_header_id|>system<|end_header_id|>\\n\\n{system}<|eot_id|><|start_header_id|>user<|end_header_id|>\\n\\n{user}<|eot_id|><|start_header_id|>assistant<|end_header_id|>\\n\\n\"\n",
    "    if isVal:\n",
    "        return parsed\n",
    "    else:\n",
    "        parsed += f'{assistant}<|eot_id|>'\n",
    "        return parsed"
   ]
  },
  {
   "cell_type": "code",
   "execution_count": 17,
   "metadata": {},
   "outputs": [
    {
     "name": "stdout",
     "output_type": "stream",
     "text": [
      "<|begin_of_text|><|start_header_id|>system<|end_header_id|>\n",
      "\n",
      "system_test<|eot_id|><|start_header_id|>user<|end_header_id|>\n",
      "\n",
      "user_test<|eot_id|><|start_header_id|>assistant<|end_header_id|>\n",
      "\n",
      "assistant_test<|eot_id|>\n"
     ]
    }
   ],
   "source": [
    "print(parse_instruct_format('system_test', 'user_test', 'assistant_test', False))"
   ]
  },
  {
   "cell_type": "code",
   "execution_count": 8,
   "metadata": {},
   "outputs": [],
   "source": [
    "system_prompt = \"You are a helpful assistant that converts novice-friendly music descriptions into expert descriptions.\\n\"\n",
    "system_prompt += \"Transform the given input novice-level prompt into a prompt that a user with extensive music training and terminologies would write.\\n\"\n",
    "system_prompt += \"Keep the instruments, genres, mood, and other information that represents the essence of the music. \"\n",
    "system_prompt += \"Use exactly 2 sentences.\""
   ]
  },
  {
   "cell_type": "code",
   "execution_count": 18,
   "metadata": {},
   "outputs": [],
   "source": [
    "parsed_instruct_dataset_train = []\n",
    "for index, row in df_train.iterrows():\n",
    "    instruct = parse_instruct_format(system_prompt, row['novice'], row['caption'], False)\n",
    "    parsed_instruct_dataset_train.append({'text':f'{instruct}'})"
   ]
  },
  {
   "cell_type": "code",
   "execution_count": 19,
   "metadata": {},
   "outputs": [],
   "source": [
    "with open(\"instruct_dataset_train.jsonl\", \"w\") as file:\n",
    "    for item in parsed_instruct_dataset_train:\n",
    "        file.write(json.dumps(item) + \"\\n\")"
   ]
  },
  {
   "cell_type": "code",
   "execution_count": 20,
   "metadata": {},
   "outputs": [],
   "source": [
    "parsed_instruct_dataset_validation = []\n",
    "for index, row in df_test.iterrows():\n",
    "    instruct = parse_instruct_format(system_prompt,row['novice'], row['caption'], True)\n",
    "    parsed_instruct_dataset_validation.append({'text':f'{instruct}'})"
   ]
  },
  {
   "cell_type": "code",
   "execution_count": 21,
   "metadata": {},
   "outputs": [],
   "source": [
    "with open(\"instruct_dataset_validation.jsonl\", \"w\") as file:\n",
    "    for item in parsed_instruct_dataset_validation:\n",
    "        file.write(json.dumps(item) + \"\\n\")"
   ]
  },
  {
   "cell_type": "code",
   "execution_count": null,
   "metadata": {},
   "outputs": [],
   "source": []
  }
 ],
 "metadata": {
  "kernelspec": {
   "display_name": "1014",
   "language": "python",
   "name": "python3"
  },
  "language_info": {
   "codemirror_mode": {
    "name": "ipython",
    "version": 3
   },
   "file_extension": ".py",
   "mimetype": "text/x-python",
   "name": "python",
   "nbconvert_exporter": "python",
   "pygments_lexer": "ipython3",
   "version": "3.9.18"
  }
 },
 "nbformat": 4,
 "nbformat_minor": 2
}
